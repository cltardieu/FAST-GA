{
 "cells": [
  {
   "cell_type": "markdown",
   "metadata": {},
   "source": [
    "<div class=\"row\">\n",
    "  <div class=\"column\">\n",
    "    <img src=\"./img/logo-onera.png\" width=\"200\">\n",
    "  </div>\n",
    "  <div class=\"column\">\n",
    "    <img src=\"./img/logo-ISAE_SUPAERO.png\" width=\"200\">\n",
    "  </div>\n",
    "</div>"
   ]
  },
  {
   "cell_type": "markdown",
   "metadata": {},
   "source": [
    "# FAST-OAD-GA Tutorial"
   ]
  },
  {
   "cell_type": "markdown",
   "metadata": {},
   "source": [
    "FAST-OAD-GA is an add-on package for [FAST-OAD framework](https://github.com/fast-aircraft-design/FAST-OAD) for performing rapid Overall Aircraft Design in the category General Aviation (GA). The computational core of FAST-OAD being based on the  [OpenMDAO framework](https://openmdao.org/)."
   ]
  },
  {
   "cell_type": "markdown",
   "metadata": {},
   "source": [
    "## 1. Setting up and analyzing the initial problem"
   ]
  },
  {
   "cell_type": "markdown",
   "metadata": {},
   "source": [
    "To organize our work, we propose to use two user folders `data/` and `workdir/`. For instance, in `data/` we store a XML file which describes the Beechcraft Duchess. In `workdir/`, we store files generated or modified by FAST-OAD."
   ]
  },
  {
   "cell_type": "code",
   "execution_count": null,
   "metadata": {},
   "outputs": [],
   "source": [
    "import os.path as pth\n",
    "import os\n",
    "import openmdao.api as om\n",
    "from fastoad import api as api_cs25\n",
    "from fastga.command import api as api_cs23\n",
    "import logging\n",
    "from fastoad.gui import VariableViewer\n",
    "import shutil\n",
    "\n",
    "# Define relative path\n",
    "DATA_FOLDER_PATH = 'data'\n",
    "WORK_FOLDER_PATH = 'workdir'\n",
    "\n",
    "# Remove work folder\n",
    "shutil.rmtree(WORK_FOLDER_PATH, ignore_errors=True)\n",
    "\n",
    "# Define files\n",
    "CONFIGURATION_FILE = pth.join(WORK_FOLDER_PATH, 'oad_process_R200fc.yml')\n",
    "SOURCE_FILE = pth.join(DATA_FOLDER_PATH, 'input_R200fc.xml')\n",
    "\n",
    "# For having log messages on screen\n",
    "logging.basicConfig(level=logging.INFO, format='%(levelname)-8s: %(message)s')\n",
    "\n",
    "# For using all screen width\n",
    "from IPython.core.display import display, HTML\n",
    "display(HTML(\"<style>.container { width:95% !important; }</style>\"))"
   ]
  },
  {
   "cell_type": "markdown",
   "metadata": {},
   "source": [
    "After defining a configuration file name, we can ask FAST-GA to generate a default configuration file based on the default OAD model implemented in the framework:"
   ]
  },
  {
   "cell_type": "code",
   "execution_count": null,
   "metadata": {},
   "outputs": [],
   "source": [
    "# api_cs23.generate_configuration_file(CONFIGURATION_FILE, overwrite=True)"
   ]
  },
  {
   "cell_type": "markdown",
   "metadata": {},
   "source": [
    "You can now checkout the generated [configuration file](./workdir/oad_process.yml). In this configuration file, we have specified an input file name 'problem_inputs.xml'. We can ask FAST-OAD to generate the inputs of the default model with the CeRAS parameters as default values:"
   ]
  },
  {
   "cell_type": "code",
   "execution_count": null,
   "metadata": {
    "scrolled": false
   },
   "outputs": [],
   "source": [
    "# api_cs25.generate_inputs(CONFIGURATION_FILE, SOURCE_FILE, overwrite=True)"
   ]
  },
  {
   "cell_type": "markdown",
   "metadata": {},
   "source": [
    "You can now checkout the generated [input file](./workdir/problem_inputs.xml). As shown previously in the user file architecture, the values in this file can be modified by the user and will be considered by FAST-OAD when executing a computational process."
   ]
  },
  {
   "cell_type": "markdown",
   "metadata": {},
   "source": [
    "A useful feature that FAST-OAD provides is to list the outputs of the model defined in the configuration file:"
   ]
  },
  {
   "cell_type": "code",
   "execution_count": null,
   "metadata": {},
   "outputs": [],
   "source": [
    "api_cs25.list_variables(CONFIGURATION_FILE)"
   ]
  },
  {
   "cell_type": "markdown",
   "metadata": {},
   "source": [
    "Another useful feature is to list the modules of the model defined in the configuration file:"
   ]
  },
  {
   "cell_type": "code",
   "execution_count": null,
   "metadata": {},
   "outputs": [],
   "source": [
    "api_cs25.list_modules(CONFIGURATION_FILE)"
   ]
  },
  {
   "cell_type": "markdown",
   "metadata": {},
   "source": [
    "Another useful feature is the [N2 diagram](http://openmdao.org/twodocs/versions/latest/basic_guide/make_n2.html) visualization available in OpenMDAO to see the structure of the model:"
   ]
  },
  {
   "cell_type": "code",
   "execution_count": null,
   "metadata": {},
   "outputs": [],
   "source": [
    "N2_FILE = pth.join(WORK_FOLDER_PATH, 'n2.html')\n",
    "api_cs25.write_n2(CONFIGURATION_FILE, N2_FILE, overwrite=True)\n",
    "from IPython.display import IFrame\n",
    "IFrame(src=N2_FILE, width='100%', height='500px')"
   ]
  },
  {
   "cell_type": "markdown",
   "metadata": {},
   "source": [
    "Alternatively, you can create a [WhatsOpt](https://github.com/OneraHub/WhatsOpt-Doc#whatsopt-documentation) account to generate the XDSM of the problem. If your account is created, you may uncomment next lines and run them (this should take ~ 1 min):"
   ]
  },
  {
   "cell_type": "code",
   "execution_count": null,
   "metadata": {},
   "outputs": [],
   "source": [
    "# XDSM_FILE = pth.join(WORK_FOLDER_PATH, 'xdsm.html')\n",
    "# api_cs25.write_xdsm(CONFIGURATION_FILE, XDSM_FILE, overwrite=True)\n",
    "# from IPython.display import IFrame\n",
    "# IFrame(src=XDSM_FILE, width='100%', height='500px')"
   ]
  },
  {
   "cell_type": "markdown",
   "metadata": {},
   "source": [
    "## 2. Running your first MDA"
   ]
  },
  {
   "cell_type": "markdown",
   "metadata": {},
   "source": [
    "### Beechcraft\n",
    "Here we run an MDA, that is solving the multidisciplinary couplings using the different nested solvers in the model, without running the optimization problem even if it is defined in the configuration file."
   ]
  },
  {
   "cell_type": "code",
   "execution_count": 7,
   "metadata": {},
   "outputs": [
    {
     "name": "stderr",
     "output_type": "stream",
     "text": [
      "c:\\users\\fl.lutz\\anaconda3\\envs\\fast-ga\\lib\\site-packages\\scipy\\optimize\\minpack.py:175: RuntimeWarning: The iteration is not making good progress, as measured by the \n",
      "  improvement from the last five Jacobian evaluations.\n",
      "  warnings.warn(msg, RuntimeWarning)\n"
     ]
    },
    {
     "name": "stdout",
     "output_type": "stream",
     "text": [
      "\n",
      "===============\n",
      "aircraft_sizing\n",
      "===============\n"
     ]
    },
    {
     "name": "stderr",
     "output_type": "stream",
     "text": [
      "WARNING : Airfoil lift coefficient to theoretical lift coefficient ratio value outside of the range in Roskam's book, value clipped\n",
      "WARNING : Airfoil lift coefficient to theoretical lift coefficient ratio value outside of the range in Roskam's book, value clipped\n",
      "WARNING : Airfoil lift slope ratio value outside of the range in Roskam's book, value clipped\n",
      "WARNING : Chord ratio value outside of the range in Roskam's book, value clipped\n",
      "WARNING : Chord ratio value outside of the range in Roskam's book, value clipped\n",
      "WARNING : Chord ratio value outside of the range in Roskam's book, value clipped\n",
      "WARNING : Chord ratio value outside of the range in Roskam's book, value clipped\n",
      "INFO    : Entering mission computation\n",
      "INFO    : Failed to remove D:\\fl.lutz\\FAST\\FAST-OAD\\FAST-GA\\src\\fastga\\notebooks\\tutorial\\workdir\\./workdir/mda_mission_results.csv file!\n",
      "INFO    : Entering mission computation\n",
      "INFO    : Entering mission computation\n",
      "INFO    : Looping on wing area with new value equal to [14.03086421]\n"
     ]
    },
    {
     "name": "stdout",
     "output_type": "stream",
     "text": [
      "NL: NLBGS 1 ; 12869314 1\n"
     ]
    },
    {
     "name": "stderr",
     "output_type": "stream",
     "text": [
      "WARNING : Chord ratio value outside of the range in Roskam's book, value clipped\n",
      "WARNING : Chord ratio value outside of the range in Roskam's book, value clipped\n",
      "WARNING : Chord ratio value outside of the range in Roskam's book, value clipped\n",
      "WARNING : Chord ratio value outside of the range in Roskam's book, value clipped\n",
      "INFO    : Entering mission computation\n",
      "INFO    : Entering mission computation\n",
      "INFO    : Entering mission computation\n",
      "INFO    : Looping on wing area with new value equal to [12.29271602]\n"
     ]
    },
    {
     "name": "stdout",
     "output_type": "stream",
     "text": [
      "NL: NLBGS 2 ; 4632413.72 0.359958093\n"
     ]
    },
    {
     "name": "stderr",
     "output_type": "stream",
     "text": [
      "WARNING : Chord ratio value outside of the range in Roskam's book, value clipped\n",
      "WARNING : Chord ratio value outside of the range in Roskam's book, value clipped\n",
      "WARNING : Chord ratio value outside of the range in Roskam's book, value clipped\n",
      "WARNING : Chord ratio value outside of the range in Roskam's book, value clipped\n",
      "INFO    : Entering mission computation\n",
      "INFO    : Entering mission computation\n",
      "INFO    : Entering mission computation\n",
      "INFO    : Looping on wing area with new value equal to [14.39548105]\n",
      "WARNING : Area ratio value outside of the range in Roskam's book, value clipped\n"
     ]
    },
    {
     "name": "stdout",
     "output_type": "stream",
     "text": [
      "NL: NLBGS 3 ; 2503726.65 0.194550125\n"
     ]
    },
    {
     "name": "stderr",
     "output_type": "stream",
     "text": [
      "WARNING : Chord ratio value outside of the range in Roskam's book, value clipped\n",
      "WARNING : Chord ratio value outside of the range in Roskam's book, value clipped\n",
      "WARNING : Chord ratio value outside of the range in Roskam's book, value clipped\n",
      "WARNING : Chord ratio value outside of the range in Roskam's book, value clipped\n",
      "WARNING : Area ratio value outside of the range in Roskam's book, value clipped\n",
      "INFO    : Entering mission computation\n",
      "INFO    : Entering mission computation\n",
      "INFO    : Entering mission computation\n",
      "INFO    : Looping on wing area with new value equal to [14.73525005]\n",
      "WARNING : Area ratio value outside of the range in Roskam's book, value clipped\n"
     ]
    },
    {
     "name": "stdout",
     "output_type": "stream",
     "text": [
      "NL: NLBGS 4 ; 1530155.62 0.118899548\n"
     ]
    },
    {
     "name": "stderr",
     "output_type": "stream",
     "text": [
      "WARNING : Chord ratio value outside of the range in Roskam's book, value clipped\n",
      "WARNING : Chord ratio value outside of the range in Roskam's book, value clipped\n",
      "WARNING : Chord ratio value outside of the range in Roskam's book, value clipped\n",
      "WARNING : Chord ratio value outside of the range in Roskam's book, value clipped\n",
      "WARNING : Area ratio value outside of the range in Roskam's book, value clipped\n",
      "INFO    : Entering mission computation\n",
      "INFO    : Entering mission computation\n",
      "INFO    : Entering mission computation\n",
      "INFO    : Looping on wing area with new value equal to [15.02119778]\n",
      "WARNING : Area ratio value outside of the range in Roskam's book, value clipped\n"
     ]
    },
    {
     "name": "stdout",
     "output_type": "stream",
     "text": [
      "NL: NLBGS 5 ; 1090479.15 0.0847348315\n"
     ]
    },
    {
     "name": "stderr",
     "output_type": "stream",
     "text": [
      "WARNING : Chord ratio value outside of the range in Roskam's book, value clipped\n",
      "WARNING : Chord ratio value outside of the range in Roskam's book, value clipped\n",
      "WARNING : Chord ratio value outside of the range in Roskam's book, value clipped\n",
      "WARNING : Chord ratio value outside of the range in Roskam's book, value clipped\n",
      "WARNING : Area ratio value outside of the range in Roskam's book, value clipped\n",
      "INFO    : Entering mission computation\n",
      "INFO    : Entering mission computation\n",
      "INFO    : Entering mission computation\n",
      "INFO    : Looping on wing area with new value equal to [15.23923067]\n",
      "WARNING : Area ratio value outside of the range in Roskam's book, value clipped\n"
     ]
    },
    {
     "name": "stdout",
     "output_type": "stream",
     "text": [
      "NL: NLBGS 6 ; 258050.846 0.0200516396\n"
     ]
    },
    {
     "name": "stderr",
     "output_type": "stream",
     "text": [
      "WARNING : Chord ratio value outside of the range in Roskam's book, value clipped\n",
      "WARNING : Chord ratio value outside of the range in Roskam's book, value clipped\n",
      "WARNING : Chord ratio value outside of the range in Roskam's book, value clipped\n",
      "WARNING : Chord ratio value outside of the range in Roskam's book, value clipped\n",
      "WARNING : Area ratio value outside of the range in Roskam's book, value clipped\n",
      "INFO    : Entering mission computation\n",
      "INFO    : Entering mission computation\n",
      "INFO    : Entering mission computation\n",
      "INFO    : Looping on wing area with new value equal to [15.35807227]\n",
      "WARNING : Area ratio value outside of the range in Roskam's book, value clipped\n"
     ]
    },
    {
     "name": "stdout",
     "output_type": "stream",
     "text": [
      "NL: NLBGS 7 ; 85029.6069 0.00660715924\n"
     ]
    },
    {
     "name": "stderr",
     "output_type": "stream",
     "text": [
      "WARNING : Chord ratio value outside of the range in Roskam's book, value clipped\n",
      "WARNING : Chord ratio value outside of the range in Roskam's book, value clipped\n",
      "WARNING : Chord ratio value outside of the range in Roskam's book, value clipped\n",
      "WARNING : Chord ratio value outside of the range in Roskam's book, value clipped\n",
      "WARNING : Area ratio value outside of the range in Roskam's book, value clipped\n",
      "INFO    : Entering mission computation\n",
      "INFO    : Entering mission computation\n",
      "INFO    : Entering mission computation\n",
      "INFO    : Looping on wing area with new value equal to [15.40463634]\n",
      "WARNING : Area ratio value outside of the range in Roskam's book, value clipped\n"
     ]
    },
    {
     "name": "stdout",
     "output_type": "stream",
     "text": [
      "NL: NLBGS 8 ; 49468.0215 0.003843874\n"
     ]
    },
    {
     "name": "stderr",
     "output_type": "stream",
     "text": [
      "WARNING : Chord ratio value outside of the range in Roskam's book, value clipped\n",
      "WARNING : Chord ratio value outside of the range in Roskam's book, value clipped\n",
      "WARNING : Chord ratio value outside of the range in Roskam's book, value clipped\n",
      "WARNING : Chord ratio value outside of the range in Roskam's book, value clipped\n",
      "WARNING : Area ratio value outside of the range in Roskam's book, value clipped\n",
      "INFO    : Entering mission computation\n",
      "INFO    : Entering mission computation\n",
      "INFO    : Entering mission computation\n",
      "INFO    : Looping on wing area with new value equal to [15.43318379]\n",
      "WARNING : Area ratio value outside of the range in Roskam's book, value clipped\n"
     ]
    },
    {
     "name": "stdout",
     "output_type": "stream",
     "text": [
      "NL: NLBGS 9 ; 29617.7749 0.00230142609\n"
     ]
    },
    {
     "name": "stderr",
     "output_type": "stream",
     "text": [
      "WARNING : Chord ratio value outside of the range in Roskam's book, value clipped\n",
      "WARNING : Chord ratio value outside of the range in Roskam's book, value clipped\n",
      "WARNING : Chord ratio value outside of the range in Roskam's book, value clipped\n",
      "WARNING : Chord ratio value outside of the range in Roskam's book, value clipped\n",
      "WARNING : Area ratio value outside of the range in Roskam's book, value clipped\n",
      "INFO    : Entering mission computation\n",
      "INFO    : Entering mission computation\n",
      "INFO    : Entering mission computation\n",
      "INFO    : Looping on wing area with new value equal to [15.44952838]\n",
      "WARNING : Area ratio value outside of the range in Roskam's book, value clipped\n"
     ]
    },
    {
     "name": "stdout",
     "output_type": "stream",
     "text": [
      "NL: NLBGS 10 ; 15187.3991 0.00118012499\n"
     ]
    },
    {
     "name": "stderr",
     "output_type": "stream",
     "text": [
      "WARNING : Chord ratio value outside of the range in Roskam's book, value clipped\n",
      "WARNING : Chord ratio value outside of the range in Roskam's book, value clipped\n",
      "WARNING : Chord ratio value outside of the range in Roskam's book, value clipped\n",
      "WARNING : Chord ratio value outside of the range in Roskam's book, value clipped\n",
      "WARNING : Area ratio value outside of the range in Roskam's book, value clipped\n",
      "INFO    : Entering mission computation\n",
      "INFO    : Entering mission computation\n",
      "INFO    : Entering mission computation\n",
      "INFO    : Looping on wing area with new value equal to [15.45774274]\n"
     ]
    },
    {
     "name": "stdout",
     "output_type": "stream",
     "text": [
      "NL: NLBGS 11 ; 9406.19993 0.000730901424\n",
      "NL: NLBGS Converged\n"
     ]
    },
    {
     "name": "stderr",
     "output_type": "stream",
     "text": [
      "INFO    : Computation finished after 515.1 seconds\n",
      "INFO    : Problem outputs written in D:\\fl.lutz\\FAST\\FAST-OAD\\FAST-GA\\src\\fastga\\notebooks\\tutorial\\workdir\\problem_outputs.xml\n"
     ]
    }
   ],
   "source": [
    "eval_problem = api_cs25.evaluate_problem(CONFIGURATION_FILE, overwrite=True)"
   ]
  },
  {
   "cell_type": "markdown",
   "metadata": {},
   "source": [
    "Let's save these results. We will use them in the next workbook, that shows some post-processing utilities."
   ]
  },
  {
   "cell_type": "code",
   "execution_count": 8,
   "metadata": {},
   "outputs": [
    {
     "data": {
      "text/plain": [
       "'workdir\\\\problem_outputs_Beechcraft_800nm_mda.xml'"
      ]
     },
     "execution_count": 8,
     "metadata": {},
     "output_type": "execute_result"
    }
   ],
   "source": [
    "OUTPUT_FILE = pth.join(WORK_FOLDER_PATH, 'problem_outputs.xml')\n",
    "Beechcraft_OUTPUT_FILE = pth.join(WORK_FOLDER_PATH, 'problem_outputs_Beechcraft_800nm_mda.xml')\n",
    "shutil.copy(OUTPUT_FILE, Beechcraft_OUTPUT_FILE)"
   ]
  },
  {
   "cell_type": "markdown",
   "metadata": {},
   "source": [
    "The `variable-viewer` provides a way to inspect the content of the XML file. The dropdown lists above the table allow to filter the displayed variable."
   ]
  },
  {
   "cell_type": "code",
   "execution_count": 9,
   "metadata": {},
   "outputs": [
    {
     "data": {
      "application/vnd.jupyter.widget-view+json": {
       "model_id": "ffe35bd5644b4731a1e2373ff6d079c0",
       "version_major": 2,
       "version_minor": 0
      },
      "text/plain": [
       "VBox(children=(HBox(children=(Button(description='Load', icon='upload', style=ButtonStyle(), tooltip='Load the…"
      ]
     },
     "metadata": {},
     "output_type": "display_data"
    }
   ],
   "source": [
    "api_cs25.variable_viewer(OUTPUT_FILE)"
   ]
  },
  {
   "cell_type": "markdown",
   "metadata": {},
   "source": [
    "In particular, you may inspect the `data:handling_qualities:static_margin` variable.\n",
    "You will see that its value is equal to the value we set as the target meaning the MDA process converged correctly."
   ]
  },
  {
   "cell_type": "markdown",
   "metadata": {},
   "source": [
    "### Beechcraft for 1000 nm range\n",
    "Here we run an MDA but we change one of the Top Level Aircraft Requirement (TLAR): the range. We choose a 1000 nm range instead of 800 nm for the Beechcraft. For that we use the `VariableViewer` tool on the input file to change the range (do not forget to save!). Just like this:\n",
    "![variable_viewer](./img/variable_viewer_change_range.gif)"
   ]
  },
  {
   "cell_type": "code",
   "execution_count": 10,
   "metadata": {
    "scrolled": true
   },
   "outputs": [
    {
     "data": {
      "application/vnd.jupyter.widget-view+json": {
       "model_id": "193e1544f841436f98390fc527f07468",
       "version_major": 2,
       "version_minor": 0
      },
      "text/plain": [
       "VBox(children=(HBox(children=(Button(description='Load', icon='upload', style=ButtonStyle(), tooltip='Load the…"
      ]
     },
     "metadata": {},
     "output_type": "display_data"
    }
   ],
   "source": [
    "INPUT_FILE = pth.join(WORK_FOLDER_PATH, 'problem_inputs.xml')\n",
    "api_cs25.variable_viewer(INPUT_FILE)"
   ]
  },
  {
   "cell_type": "markdown",
   "metadata": {},
   "source": [
    "Now that the range has been changed, we run again the MDA."
   ]
  },
  {
   "cell_type": "code",
   "execution_count": 11,
   "metadata": {},
   "outputs": [
    {
     "name": "stderr",
     "output_type": "stream",
     "text": [
      "c:\\users\\fl.lutz\\anaconda3\\envs\\fast-ga\\lib\\site-packages\\scipy\\optimize\\minpack.py:175: RuntimeWarning: The iteration is not making good progress, as measured by the \n",
      "  improvement from the last five Jacobian evaluations.\n",
      "  warnings.warn(msg, RuntimeWarning)\n",
      "WARNING : Airfoil lift coefficient to theoretical lift coefficient ratio value outside of the range in Roskam's book, value clipped\n",
      "WARNING : Airfoil lift coefficient to theoretical lift coefficient ratio value outside of the range in Roskam's book, value clipped\n",
      "WARNING : Airfoil lift slope ratio value outside of the range in Roskam's book, value clipped\n"
     ]
    },
    {
     "name": "stdout",
     "output_type": "stream",
     "text": [
      "\n",
      "===============\n",
      "aircraft_sizing\n",
      "===============\n"
     ]
    },
    {
     "name": "stderr",
     "output_type": "stream",
     "text": [
      "WARNING : Chord ratio value outside of the range in Roskam's book, value clipped\n",
      "WARNING : Chord ratio value outside of the range in Roskam's book, value clipped\n",
      "WARNING : Chord ratio value outside of the range in Roskam's book, value clipped\n",
      "WARNING : Chord ratio value outside of the range in Roskam's book, value clipped\n",
      "INFO    : Entering mission computation\n",
      "INFO    : Entering mission computation\n",
      "INFO    : Entering mission computation\n",
      "INFO    : Looping on wing area with new value equal to [14.03086421]\n"
     ]
    },
    {
     "name": "stdout",
     "output_type": "stream",
     "text": [
      "NL: NLBGS 1 ; 12914287 1\n"
     ]
    },
    {
     "name": "stderr",
     "output_type": "stream",
     "text": [
      "WARNING : Chord ratio value outside of the range in Roskam's book, value clipped\n",
      "WARNING : Chord ratio value outside of the range in Roskam's book, value clipped\n",
      "WARNING : Chord ratio value outside of the range in Roskam's book, value clipped\n",
      "WARNING : Chord ratio value outside of the range in Roskam's book, value clipped\n",
      "INFO    : Entering mission computation\n",
      "INFO    : Entering mission computation\n",
      "INFO    : Entering mission computation\n",
      "INFO    : Looping on wing area with new value equal to [12.29271602]\n"
     ]
    },
    {
     "name": "stdout",
     "output_type": "stream",
     "text": [
      "NL: NLBGS 2 ; 4632412.47 0.358704468\n"
     ]
    },
    {
     "name": "stderr",
     "output_type": "stream",
     "text": [
      "WARNING : Chord ratio value outside of the range in Roskam's book, value clipped\n",
      "WARNING : Chord ratio value outside of the range in Roskam's book, value clipped\n",
      "WARNING : Chord ratio value outside of the range in Roskam's book, value clipped\n",
      "WARNING : Chord ratio value outside of the range in Roskam's book, value clipped\n",
      "INFO    : Entering mission computation\n",
      "INFO    : Entering mission computation\n",
      "INFO    : Entering mission computation\n",
      "INFO    : Looping on wing area with new value equal to [14.78685259]\n",
      "WARNING : Area ratio value outside of the range in Roskam's book, value clipped\n"
     ]
    },
    {
     "name": "stdout",
     "output_type": "stream",
     "text": [
      "NL: NLBGS 3 ; 2518853.92 0.195043978\n"
     ]
    },
    {
     "name": "stderr",
     "output_type": "stream",
     "text": [
      "WARNING : Chord ratio value outside of the range in Roskam's book, value clipped\n",
      "WARNING : Chord ratio value outside of the range in Roskam's book, value clipped\n",
      "WARNING : Chord ratio value outside of the range in Roskam's book, value clipped\n",
      "WARNING : Chord ratio value outside of the range in Roskam's book, value clipped\n",
      "WARNING : Area ratio value outside of the range in Roskam's book, value clipped\n",
      "INFO    : Entering mission computation\n",
      "INFO    : Entering mission computation\n",
      "INFO    : Entering mission computation\n",
      "INFO    : Looping on wing area with new value equal to [15.15416491]\n",
      "WARNING : Area ratio value outside of the range in Roskam's book, value clipped\n"
     ]
    },
    {
     "name": "stdout",
     "output_type": "stream",
     "text": [
      "NL: NLBGS 4 ; 1575843.03 0.122023231\n"
     ]
    },
    {
     "name": "stderr",
     "output_type": "stream",
     "text": [
      "WARNING : Chord ratio value outside of the range in Roskam's book, value clipped\n",
      "WARNING : Chord ratio value outside of the range in Roskam's book, value clipped\n",
      "WARNING : Chord ratio value outside of the range in Roskam's book, value clipped\n",
      "WARNING : Chord ratio value outside of the range in Roskam's book, value clipped\n",
      "WARNING : Area ratio value outside of the range in Roskam's book, value clipped\n",
      "INFO    : Entering mission computation\n",
      "INFO    : Entering mission computation\n",
      "INFO    : Entering mission computation\n",
      "INFO    : Looping on wing area with new value equal to [15.55659411]\n",
      "WARNING : Area ratio value outside of the range in Roskam's book, value clipped\n"
     ]
    },
    {
     "name": "stdout",
     "output_type": "stream",
     "text": [
      "NL: NLBGS 5 ; 1272282.41 0.0985174333\n"
     ]
    },
    {
     "name": "stderr",
     "output_type": "stream",
     "text": [
      "WARNING : Chord ratio value outside of the range in Roskam's book, value clipped\n",
      "WARNING : Chord ratio value outside of the range in Roskam's book, value clipped\n",
      "WARNING : Chord ratio value outside of the range in Roskam's book, value clipped\n",
      "WARNING : Chord ratio value outside of the range in Roskam's book, value clipped\n",
      "WARNING : Area ratio value outside of the range in Roskam's book, value clipped\n",
      "INFO    : Entering mission computation\n",
      "INFO    : Entering mission computation\n",
      "INFO    : Entering mission computation\n",
      "INFO    : Looping on wing area with new value equal to [15.82332725]\n",
      "WARNING : Area ratio value outside of the range in Roskam's book, value clipped\n"
     ]
    },
    {
     "name": "stdout",
     "output_type": "stream",
     "text": [
      "NL: NLBGS 6 ; 273168.718 0.0211524428\n"
     ]
    },
    {
     "name": "stderr",
     "output_type": "stream",
     "text": [
      "WARNING : Chord ratio value outside of the range in Roskam's book, value clipped\n",
      "WARNING : Chord ratio value outside of the range in Roskam's book, value clipped\n",
      "WARNING : Chord ratio value outside of the range in Roskam's book, value clipped\n",
      "WARNING : Chord ratio value outside of the range in Roskam's book, value clipped\n",
      "WARNING : Area ratio value outside of the range in Roskam's book, value clipped\n",
      "INFO    : Entering mission computation\n",
      "INFO    : Entering mission computation\n",
      "INFO    : Entering mission computation\n",
      "INFO    : Looping on wing area with new value equal to [15.98162383]\n",
      "WARNING : Area ratio value outside of the range in Roskam's book, value clipped\n"
     ]
    },
    {
     "name": "stdout",
     "output_type": "stream",
     "text": [
      "NL: NLBGS 7 ; 113964.592 0.00882469098\n"
     ]
    },
    {
     "name": "stderr",
     "output_type": "stream",
     "text": [
      "WARNING : Chord ratio value outside of the range in Roskam's book, value clipped\n",
      "WARNING : Chord ratio value outside of the range in Roskam's book, value clipped\n",
      "WARNING : Chord ratio value outside of the range in Roskam's book, value clipped\n",
      "WARNING : Chord ratio value outside of the range in Roskam's book, value clipped\n",
      "WARNING : Area ratio value outside of the range in Roskam's book, value clipped\n",
      "INFO    : Entering mission computation\n",
      "INFO    : Entering mission computation\n",
      "INFO    : Entering mission computation\n",
      "INFO    : Looping on wing area with new value equal to [16.05694437]\n",
      "WARNING : Area ratio value outside of the range in Roskam's book, value clipped\n"
     ]
    },
    {
     "name": "stdout",
     "output_type": "stream",
     "text": [
      "NL: NLBGS 8 ; 72952.995 0.00564901452\n"
     ]
    },
    {
     "name": "stderr",
     "output_type": "stream",
     "text": [
      "WARNING : Chord ratio value outside of the range in Roskam's book, value clipped\n",
      "WARNING : Chord ratio value outside of the range in Roskam's book, value clipped\n",
      "WARNING : Chord ratio value outside of the range in Roskam's book, value clipped\n",
      "WARNING : Chord ratio value outside of the range in Roskam's book, value clipped\n",
      "WARNING : Area ratio value outside of the range in Roskam's book, value clipped\n",
      "INFO    : Entering mission computation\n",
      "INFO    : Entering mission computation\n",
      "INFO    : Entering mission computation\n",
      "INFO    : Looping on wing area with new value equal to [16.09626337]\n",
      "WARNING : Area ratio value outside of the range in Roskam's book, value clipped\n"
     ]
    },
    {
     "name": "stdout",
     "output_type": "stream",
     "text": [
      "NL: NLBGS 9 ; 48200.1696 0.00373231363\n"
     ]
    },
    {
     "name": "stderr",
     "output_type": "stream",
     "text": [
      "WARNING : Chord ratio value outside of the range in Roskam's book, value clipped\n",
      "WARNING : Chord ratio value outside of the range in Roskam's book, value clipped\n",
      "WARNING : Chord ratio value outside of the range in Roskam's book, value clipped\n",
      "WARNING : Chord ratio value outside of the range in Roskam's book, value clipped\n",
      "WARNING : Area ratio value outside of the range in Roskam's book, value clipped\n",
      "INFO    : Entering mission computation\n",
      "INFO    : Entering mission computation\n",
      "INFO    : Entering mission computation\n",
      "INFO    : Looping on wing area with new value equal to [16.11873941]\n",
      "WARNING : Area ratio value outside of the range in Roskam's book, value clipped\n"
     ]
    },
    {
     "name": "stdout",
     "output_type": "stream",
     "text": [
      "NL: NLBGS 10 ; 26132.5149 0.00202353524\n"
     ]
    },
    {
     "name": "stderr",
     "output_type": "stream",
     "text": [
      "WARNING : Chord ratio value outside of the range in Roskam's book, value clipped\n",
      "WARNING : Chord ratio value outside of the range in Roskam's book, value clipped\n",
      "WARNING : Chord ratio value outside of the range in Roskam's book, value clipped\n",
      "WARNING : Chord ratio value outside of the range in Roskam's book, value clipped\n",
      "WARNING : Area ratio value outside of the range in Roskam's book, value clipped\n",
      "INFO    : Entering mission computation\n",
      "INFO    : Entering mission computation\n",
      "INFO    : Entering mission computation\n",
      "INFO    : Looping on wing area with new value equal to [16.13164326]\n",
      "WARNING : Area ratio value outside of the range in Roskam's book, value clipped\n"
     ]
    },
    {
     "name": "stdout",
     "output_type": "stream",
     "text": [
      "NL: NLBGS 11 ; 13664.6551 0.00105810371\n"
     ]
    },
    {
     "name": "stderr",
     "output_type": "stream",
     "text": [
      "WARNING : Chord ratio value outside of the range in Roskam's book, value clipped\n",
      "WARNING : Chord ratio value outside of the range in Roskam's book, value clipped\n",
      "WARNING : Chord ratio value outside of the range in Roskam's book, value clipped\n",
      "WARNING : Chord ratio value outside of the range in Roskam's book, value clipped\n",
      "WARNING : Area ratio value outside of the range in Roskam's book, value clipped\n",
      "INFO    : Entering mission computation\n",
      "INFO    : Entering mission computation\n",
      "INFO    : Entering mission computation\n",
      "INFO    : Looping on wing area with new value equal to [16.13872101]\n"
     ]
    },
    {
     "name": "stdout",
     "output_type": "stream",
     "text": [
      "NL: NLBGS 12 ; 7617.64148 0.000589861559\n",
      "NL: NLBGS Converged\n"
     ]
    },
    {
     "name": "stderr",
     "output_type": "stream",
     "text": [
      "INFO    : Computation finished after 483.48 seconds\n",
      "INFO    : Problem outputs written in D:\\fl.lutz\\FAST\\FAST-OAD\\FAST-GA\\src\\fastga\\notebooks\\tutorial\\workdir\\problem_outputs.xml\n"
     ]
    }
   ],
   "source": [
    "eval_problem = api_cs25.evaluate_problem(CONFIGURATION_FILE, overwrite=True)"
   ]
  },
  {
   "cell_type": "markdown",
   "metadata": {},
   "source": [
    "Let's save again these new results, for post-processing them in next notebook."
   ]
  },
  {
   "cell_type": "code",
   "execution_count": 12,
   "metadata": {},
   "outputs": [
    {
     "data": {
      "text/plain": [
       "'workdir\\\\problem_outputs_Beechcraft_1000nm_mda.xml'"
      ]
     },
     "execution_count": 12,
     "metadata": {},
     "output_type": "execute_result"
    }
   ],
   "source": [
    "OUTPUT_FILE = pth.join(WORK_FOLDER_PATH, 'problem_outputs.xml')\n",
    "Beechcraft_1000nm_OUTPUT_FILE = pth.join(WORK_FOLDER_PATH, 'problem_outputs_Beechcraft_1000nm_mda.xml')\n",
    "shutil.copy(OUTPUT_FILE, Beechcraft_1000nm_OUTPUT_FILE)"
   ]
  },
  {
   "cell_type": "markdown",
   "metadata": {},
   "source": [
    "## 3. Running your first MDO\n",
    "\n",
    "## Beechcraft 800 nm optimization\n",
    "\n",
    "As seen earlier, the current aircraft configuration is estimated with a fixed distance between the wing aerodynamic center and the horizontal tail aerodynamic center. We will unlock this parameter using a simple optimization problem that will move horizontal tail position in order to minimize the mission consumption. \n",
    "\n",
    "The default configuration file defines this optimization problem that aims at:\n",
    "- minimizing the fuel consumption for the mission (objective),\n",
    "- with respect to the distance between the wing and the tail aerodynamic center (design variables): by extension the horizontal tail to wing distance,\n",
    "- subject to no additional constraint.\n",
    "\n",
    "However, running the MDO with the propeller performance estimation will take a very long time. Consequently, and since the propeller won't change from one MDO loop to another, we decided to use a different .yml file for the probleme definition and reuse the propeller performance map computed in the MDA's hence why the input file will be the output file of a previous MDA.\n",
    "\n",
    "*(This run should take approximately 20 minutes)*"
   ]
  },
  {
   "cell_type": "code",
   "execution_count": null,
   "metadata": {},
   "outputs": [],
   "source": [
    "CONFIGURATION_FILE_MDO = pth.join(WORK_FOLDER_PATH, 'oad_process_mdo.yml')\n",
    "SOURCE_FILE_MDO = pth.join(WORK_FOLDER_PATH, 'problem_outputs_Beechcraft_800nm_mda.xml')\n",
    "shutil.copy(pth.join(DATA_FOLDER_PATH, 'fastga_mdo.yml'), CONFIGURATION_FILE_MDO)"
   ]
  },
  {
   "cell_type": "code",
   "execution_count": null,
   "metadata": {},
   "outputs": [],
   "source": [
    "# Set back the inputs from the reference Beechcraft 800 nm\n",
    "api_cs25.generate_inputs(CONFIGURATION_FILE_MDO, SOURCE_FILE_MDO, overwrite=True)"
   ]
  },
  {
   "cell_type": "markdown",
   "metadata": {},
   "source": [
    "To visualize and edit the optimization problem definition (present in the configuration file .toml) you can use the `optimization_viewer` tool. If design variables or constraints have active bounds they are yellow whereas they are red if they are violated. Modifiying the `Initial Value` will modify the input file defined in the configuration file .toml whereas `Value` corresponds to the value found in the output file defined in the configuration file (here it is the 800 nm MDA run)."
   ]
  },
  {
   "cell_type": "code",
   "execution_count": null,
   "metadata": {},
   "outputs": [],
   "source": [
    "api_cs25.optimization_viewer(CONFIGURATION_FILE_MDO)"
   ]
  },
  {
   "cell_type": "code",
   "execution_count": null,
   "metadata": {
    "jupyter": {
     "outputs_hidden": true
    }
   },
   "outputs": [],
   "source": [
    "optim_problem = api_cs25.optimize_problem(CONFIGURATION_FILE_MDO, overwrite=True)"
   ]
  },
  {
   "cell_type": "markdown",
   "metadata": {},
   "source": [
    "Let's save these results:"
   ]
  },
  {
   "cell_type": "code",
   "execution_count": null,
   "metadata": {},
   "outputs": [],
   "source": [
    "OUTPUT_FILE = pth.join(WORK_FOLDER_PATH, 'problem_outputs.xml')\n",
    "CeRAS_OPT_OUTPUT_FILE = pth.join(WORK_FOLDER_PATH, 'problem_outputs_Beechcraft_800nm_mdo.xml')\n",
    "shutil.copy(OUTPUT_FILE, CeRAS_OPT_OUTPUT_FILE)"
   ]
  },
  {
   "cell_type": "markdown",
   "metadata": {},
   "source": [
    "The `optimizer_viewer` offers a convenient summary of the optimization result:"
   ]
  },
  {
   "cell_type": "code",
   "execution_count": null,
   "metadata": {},
   "outputs": [],
   "source": [
    "api_cs25.optimization_viewer(CONFIGURATION_FILE_MDO)"
   ]
  },
  {
   "cell_type": "markdown",
   "metadata": {},
   "source": [
    "You can use the `VariableViewer` tool to see the optimization results for all variables of the system by loading the .xml output file:"
   ]
  },
  {
   "cell_type": "code",
   "execution_count": null,
   "metadata": {},
   "outputs": [],
   "source": [
    "RESULT_FILE = pth.join(WORK_FOLDER_PATH, 'problem_outputs.xml')\n",
    "api_cs25.variable_viewer(RESULT_FILE)"
   ]
  },
  {
   "cell_type": "code",
   "execution_count": null,
   "metadata": {},
   "outputs": [],
   "source": []
  }
 ],
 "metadata": {
  "kernelspec": {
   "display_name": "Python 3 (ipykernel)",
   "language": "python",
   "name": "python3"
  },
  "language_info": {
   "codemirror_mode": {
    "name": "ipython",
    "version": 3
   },
   "file_extension": ".py",
   "mimetype": "text/x-python",
   "name": "python",
   "nbconvert_exporter": "python",
   "pygments_lexer": "ipython3",
   "version": "3.9.7"
  }
 },
 "nbformat": 4,
 "nbformat_minor": 4
}
